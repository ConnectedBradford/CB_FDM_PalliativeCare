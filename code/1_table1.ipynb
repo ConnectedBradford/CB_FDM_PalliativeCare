{
 "cells": [
  {
   "cell_type": "markdown",
   "id": "5cffa6a1-8552-416e-b6d2-ffb6648947d6",
   "metadata": {},
   "source": [
    "This script joins the master person table, srpatient table and IMD lookup table to get the data which is required for the palliative care master table. check cell [3] contains all the lates tables and then run script."
   ]
  },
  {
   "cell_type": "code",
   "execution_count": 1,
   "id": "6a6d25a4-c065-482a-bb1b-02884a0d9f2f",
   "metadata": {},
   "outputs": [],
   "source": [
    "# Import libraries.\n",
    "import pandas as pd\n",
    "from google.cloud import bigquery\n",
    "from google.cloud.bigquery import LoadJobConfig\n",
    "from google.cloud.bigquery import SchemaField"
   ]
  },
  {
   "cell_type": "code",
   "execution_count": 2,
   "id": "836ce4d2-25ec-4468-b56e-a32242095e4a",
   "metadata": {},
   "outputs": [
    {
     "name": "stderr",
     "output_type": "stream",
     "text": [
      "/opt/conda/lib/python3.7/site-packages/google/auth/_default.py:78: UserWarning: Your application has authenticated using end user credentials from Google Cloud SDK without a quota project. You might receive a \"quota exceeded\" or \"API not enabled\" error. See the following page for troubleshooting: https://cloud.google.com/docs/authentication/adc-troubleshooting/user-creds. \n",
      "  warnings.warn(_CLOUD_SDK_CREDENTIALS_WARNING)\n",
      "/opt/conda/lib/python3.7/site-packages/google/auth/_default.py:78: UserWarning: Your application has authenticated using end user credentials from Google Cloud SDK without a quota project. You might receive a \"quota exceeded\" or \"API not enabled\" error. See the following page for troubleshooting: https://cloud.google.com/docs/authentication/adc-troubleshooting/user-creds. \n",
      "  warnings.warn(_CLOUD_SDK_CREDENTIALS_WARNING)\n"
     ]
    }
   ],
   "source": [
    "client = bigquery.Client()"
   ]
  },
  {
   "cell_type": "code",
   "execution_count": 3,
   "id": "1987e5f2-e749-4120-a7eb-b349d58f4e57",
   "metadata": {},
   "outputs": [],
   "source": [
    "## CHECK: these will need to be replaced with the latest table.\n",
    "\n",
    "master_person = \"yhcr-prd-phm-bia-core.CB_FDM_MASTER.person\"\n",
    "SRPatient = \"yhcr-prd-phm-bia-core.CB_FDM_PrimaryCare_V8.tbl_srpatient\"\n",
    "IMD_lookup = \"yhcr-prd-phm-bia-core.CB_LOOKUPS.tbl_IMD_2019\"\n"
   ]
  },
  {
   "cell_type": "markdown",
   "id": "2c070f97-dd4b-41ac-9498-fa2271ecf04b",
   "metadata": {},
   "source": [
    "The rest of this script can be run without making any changes"
   ]
  },
  {
   "cell_type": "code",
   "execution_count": 4,
   "id": "a347a4de-3d97-481e-b039-cd2f22db6209",
   "metadata": {},
   "outputs": [
    {
     "name": "stdout",
     "output_type": "stream",
     "text": [
      "Deleted table 'yhcr-prd-phm-bia-core.CB_FDM_Palliative_care_v1.tmp_table1'.\n"
     ]
    }
   ],
   "source": [
    "#delete the existing table 1 before creating a new table1 \n",
    "table_id = 'yhcr-prd-phm-bia-core.CB_FDM_Palliative_care_v1.tmp_table1'\n",
    "client.delete_table(table_id, not_found_ok=True)  \n",
    "print(\"Deleted table '{}'.\".format(table_id))"
   ]
  },
  {
   "cell_type": "code",
   "execution_count": 5,
   "id": "3d49fb56-6baa-4a79-a69b-44758c3baeaa",
   "metadata": {},
   "outputs": [],
   "source": [
    "## update this table - yhcr-prd-phm-bia-core.CB_FDM_PrimaryCare_V8.tbl_srpatient with the latest srpatient table\n",
    "##the other two tables used are yhcr-prd-phm-bia-core.CB_FDM_MASTER.person which doesn't need updating \n",
    "## and yhcr-prd-phm-bia-core.CB_LOOKUPS.tbl_IMD_2019 which is used to get IMD from the LSOA, this is the latest IMD table, if there is an update to this IMD table it will need updating in the script\n",
    "palliative_care1 = f\"\"\"\n",
    "select distinct person_id, datebirth, datedeath,\n",
    "-- Year of death\n",
    "Extract(Year from datedeath) as Year_of_death,\n",
    "-- Age\n",
    "date_diff(datedeath, datebirth, Year) as Age_at_death,\n",
    "gender,\n",
    "GP_Practice,\n",
    "ethnicity,\n",
    "LSOA,\n",
    "IMD\n",
    "\n",
    "from\n",
    "\n",
    "(select distinct b1.*, b2.IMD\n",
    "\n",
    "from\n",
    "\n",
    "(select distinct a1.*, a2.* EXCEPT(person_id)\n",
    "\n",
    "from\n",
    "\n",
    "(select distinct person_id, extract(date from birth_datetime) AS datebirth, extract(date from death_datetime) AS datedeath, ethnicity_source_value as ethnicity\n",
    "from {master_person}\n",
    ")a1\n",
    "\n",
    "left join\n",
    "\n",
    "(SELECT distinct person_id, gender, idorganisationvisibleto as GP_Practice ,soa as LSOA \n",
    "\n",
    "FROM  {SRPatient}\n",
    ")a2\n",
    "\n",
    "on a1.person_id =a2.person_id\n",
    "\n",
    "\n",
    ")b1 \n",
    "\n",
    "left join \n",
    "-- Use SOA from primary care table to get IMD from lookup table\n",
    "(select distinct lsoa_code_2011, cast(index_of_multiple_deprivation_imd_decile_where_1_is_most_depr as INT64) as IMD\n",
    "\n",
    "from {IMD_lookup}\n",
    ")b2\n",
    "\n",
    "on b1.LSOA = b2.lsoa_code_2011\n",
    ")\n",
    "\n",
    "\"\"\"\n"
   ]
  },
  {
   "cell_type": "code",
   "execution_count": 6,
   "id": "49646fec-877d-4c9a-83ec-543002221cbb",
   "metadata": {},
   "outputs": [
    {
     "name": "stderr",
     "output_type": "stream",
     "text": [
      "/opt/conda/lib/python3.7/site-packages/google/auth/_default.py:78: UserWarning: Your application has authenticated using end user credentials from Google Cloud SDK without a quota project. You might receive a \"quota exceeded\" or \"API not enabled\" error. See the following page for troubleshooting: https://cloud.google.com/docs/authentication/adc-troubleshooting/user-creds. \n",
      "  warnings.warn(_CLOUD_SDK_CREDENTIALS_WARNING)\n"
     ]
    }
   ],
   "source": [
    "palliative_Care_table1 = pd.read_gbq(palliative_care1)"
   ]
  },
  {
   "cell_type": "code",
   "execution_count": 7,
   "id": "0ee7bbe5-624e-41fa-abc5-676aa0a6bcf8",
   "metadata": {},
   "outputs": [],
   "source": [
    "##Create table in Bigquery to store table 1 temporarily\n",
    "table1 = 'yhcr-prd-phm-bia-core.CB_FDM_Palliative_care_v1.tmp_table1'\n",
    "##Load the table into BigQuery\n",
    "job1 = client.load_table_from_dataframe(palliative_Care_table1, table1)"
   ]
  },
  {
   "cell_type": "markdown",
   "id": "f761b574-16d1-49d8-b13d-7adcda43f713",
   "metadata": {},
   "source": [
    " check this table is present  in the dataset - yhcr-prd-phm-bia-core.CB_FDM_Palliative_care_v1.tmp_table1"
   ]
  },
  {
   "cell_type": "code",
   "execution_count": null,
   "id": "db3492c3-d3d2-44cd-b0f7-eed9ee29d9e9",
   "metadata": {},
   "outputs": [],
   "source": []
  }
 ],
 "metadata": {
  "environment": {
   "kernel": "python3",
   "name": "r-cpu.4-2.m110",
   "type": "gcloud",
   "uri": "gcr.io/deeplearning-platform-release/r-cpu.4-2:m110"
  },
  "kernelspec": {
   "display_name": "Python 3",
   "language": "python",
   "name": "python3"
  },
  "language_info": {
   "codemirror_mode": {
    "name": "ipython",
    "version": 3
   },
   "file_extension": ".py",
   "mimetype": "text/x-python",
   "name": "python",
   "nbconvert_exporter": "python",
   "pygments_lexer": "ipython3",
   "version": "3.7.12"
  }
 },
 "nbformat": 4,
 "nbformat_minor": 5
}
