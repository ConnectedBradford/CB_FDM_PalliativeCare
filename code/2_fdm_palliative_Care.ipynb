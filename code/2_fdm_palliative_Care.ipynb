{
 "cells": [
  {
   "cell_type": "markdown",
   "id": "72d5572a-fe8c-4e5d-bde5-d2d6e3b25af5",
   "metadata": {},
   "source": [
    "Run the python script titled 1_table1.ipynb before running this script.\n",
    "\n",
    "The script uses the table creates in 1_table1.ipynb and prduces the palliative care master table, the palliative care master table shows anyone in Connected Bradford who has had palliative care.\n",
    "check cell [3] has the latest tables then run script.\n",
    "\n"
   ]
  },
  {
   "cell_type": "code",
   "execution_count": 1,
   "id": "6a6d25a4-c065-482a-bb1b-02884a0d9f2f",
   "metadata": {},
   "outputs": [],
   "source": [
    "# Import libraries.\n",
    "import pandas as pd\n",
    "from google.cloud import bigquery\n",
    "from google.cloud.bigquery import LoadJobConfig\n",
    "from google.cloud.bigquery import SchemaField"
   ]
  },
  {
   "cell_type": "code",
   "execution_count": 2,
   "id": "836ce4d2-25ec-4468-b56e-a32242095e4a",
   "metadata": {},
   "outputs": [
    {
     "name": "stderr",
     "output_type": "stream",
     "text": [
      "/opt/conda/lib/python3.7/site-packages/google/auth/_default.py:78: UserWarning: Your application has authenticated using end user credentials from Google Cloud SDK without a quota project. You might receive a \"quota exceeded\" or \"API not enabled\" error. See the following page for troubleshooting: https://cloud.google.com/docs/authentication/adc-troubleshooting/user-creds. \n",
      "  warnings.warn(_CLOUD_SDK_CREDENTIALS_WARNING)\n",
      "/opt/conda/lib/python3.7/site-packages/google/auth/_default.py:78: UserWarning: Your application has authenticated using end user credentials from Google Cloud SDK without a quota project. You might receive a \"quota exceeded\" or \"API not enabled\" error. See the following page for troubleshooting: https://cloud.google.com/docs/authentication/adc-troubleshooting/user-creds. \n",
      "  warnings.warn(_CLOUD_SDK_CREDENTIALS_WARNING)\n"
     ]
    }
   ],
   "source": [
    "client = bigquery.Client()"
   ]
  },
  {
   "cell_type": "code",
   "execution_count": 3,
   "id": "88bca3ab-6671-4913-9cd4-9ccb40c9adf1",
   "metadata": {},
   "outputs": [],
   "source": [
    "## check the sr_code1 table is the latest from primary care\n",
    "\n",
    "table_1 = \"yhcr-prd-phm-bia-core.CB_FDM_Palliative_care_v1.tmp_table1\"\n",
    "## upload the sr_code1 with the latest tbl_srcode from primary care\n",
    "sr_code1 = \"yhcr-prd-phm-bia-core.CB_FDM_PrimaryCare_V8.tbl_srcode\""
   ]
  },
  {
   "cell_type": "markdown",
   "id": "5f336fba-b8ba-45ee-b76a-5632f315b626",
   "metadata": {},
   "source": [
    "The rest of this Script can be run without making any changes"
   ]
  },
  {
   "cell_type": "code",
   "execution_count": 4,
   "id": "17a14f51-8275-4156-b74f-df17de2e72a8",
   "metadata": {},
   "outputs": [],
   "source": [
    "# Load palliative care codelist into a Python pandas data frame\n",
    "# Plaliative care codes \n",
    "palliative_care = pd.read_csv('Palliative_care_codes.csv')\n",
    "# general palliative care codes\n",
    "general_care_codes = pd.read_csv('palliative_care_generalist_codes.csv')\n",
    "#Specialist palliative care codes\n",
    "specialist_care_codes = pd.read_csv('palliative_care_specialist_codes.csv')"
   ]
  },
  {
   "cell_type": "code",
   "execution_count": 5,
   "id": "17848e63-affc-46aa-a850-71ec531e6ca1",
   "metadata": {},
   "outputs": [
    {
     "name": "stdout",
     "output_type": "stream",
     "text": [
      "Deleted table 'yhcr-prd-phm-bia-core.CB_FDM_Palliative_care_v1.Palliative_Care_Master'.\n"
     ]
    }
   ],
   "source": [
    "# Delete the current palliative care master table\n",
    "\n",
    "table_id = 'yhcr-prd-phm-bia-core.CB_FDM_Palliative_care_v1.Palliative_Care_Master'\n",
    "client.delete_table(table_id, not_found_ok=True)  \n",
    "print(\"Deleted table '{}'.\".format(table_id))"
   ]
  },
  {
   "cell_type": "code",
   "execution_count": 6,
   "id": "04388297-e0f0-47bd-88a3-886a24534ca3",
   "metadata": {},
   "outputs": [],
   "source": [
    "# Join the primary care dataset with the palliative care codes \n",
    "# and only show people who have had palliative care in the CBradford dataset.\n",
    "\n",
    "palliative_care2 = f\"\"\" \n",
    "\n",
    "with srcode_tbl as (\n",
    "  select distinct person_id, ctv3code\n",
    "  from {sr_code1}\n",
    ")\n",
    "\n",
    "\n",
    "\n",
    "    SELECT DISTINCT * EXCEPT(Palliative_care_Required)\n",
    "    from\n",
    "    \n",
    "    (select distinct *\n",
    "    from\n",
    "    (\n",
    "    select distinct person_id, datebirth, datedeath, year_of_death, Age_at_death, gender, ethnicity, LSOA, IMD, GP_Practice,\n",
    "    max(Access_to_palliative_care) as Palliative_care_Required,\n",
    "    max(Access_to_generalist_palliative_care) as General_PCN, max(Access_to_Specialist_palliative_care) as Specialist_PCN\n",
    "    \n",
    "    from\n",
    "    \n",
    "    (select distinct a.*, b.* EXCEPT(person_id)\n",
    "    \n",
    "    from\n",
    "    \n",
    "    (\n",
    "    select distinct *\n",
    "    from {table_1}\n",
    "    )a\n",
    "    \n",
    "    left join\n",
    "    \n",
    "    (\n",
    "    SELECT distinct person_id, ctv3code,\n",
    "        case when ctv3code in ('\"\"\" + \\\n",
    "    '\\', \\''.join(map(str, palliative_care[\"Code\"].tolist())) + \\\n",
    "    \"\"\"') THEN 1\n",
    "    ELSE 0\n",
    "    END AS Access_to_Palliative_care,\n",
    "    case when ctv3code in ('\"\"\" + \\\n",
    "    '\\', \\''.join(map(str, general_care_codes[\"Code\"].tolist())) + \\\n",
    "    \"\"\"') THEN 1\n",
    "    ELSE 0\n",
    "    END AS Access_to_generalist_palliative_care,\n",
    "    case when ctv3code in ('\"\"\" + \\\n",
    "    '\\', \\''.join(map(str, specialist_care_codes[\"Code\"].tolist())) + \\\n",
    "    \"\"\"') THEN 1\n",
    "    ELSE 0\n",
    "    END AS Access_to_Specialist_palliative_care \n",
    "    \n",
    "    FROM srcode_tbl\n",
    "    \n",
    "    )b\n",
    "    \n",
    "    on a.person_id = b.person_id)\n",
    "    \n",
    "    group by  person_id, datebirth, datedeath, year_of_death, Age_at_death, gender, ethnicity,LSOA, IMD, GP_Practice\n",
    "    \n",
    "    order by person_id asc))\n",
    "    where Palliative_care_Required = 1\n",
    "\"\"\"\n"
   ]
  },
  {
   "cell_type": "code",
   "execution_count": 7,
   "id": "4ee31ca3-6de7-4862-ad5c-680f76824377",
   "metadata": {},
   "outputs": [
    {
     "name": "stderr",
     "output_type": "stream",
     "text": [
      "/opt/conda/lib/python3.7/site-packages/google/auth/_default.py:78: UserWarning: Your application has authenticated using end user credentials from Google Cloud SDK without a quota project. You might receive a \"quota exceeded\" or \"API not enabled\" error. See the following page for troubleshooting: https://cloud.google.com/docs/authentication/adc-troubleshooting/user-creds. \n",
      "  warnings.warn(_CLOUD_SDK_CREDENTIALS_WARNING)\n"
     ]
    }
   ],
   "source": [
    "palliative_Care_table2 = pd.read_gbq(palliative_care2)"
   ]
  },
  {
   "cell_type": "code",
   "execution_count": 8,
   "id": "5b53ed21-c780-4027-ace6-60eaa364efdf",
   "metadata": {},
   "outputs": [
    {
     "data": {
      "text/html": [
       "<div>\n",
       "<style scoped>\n",
       "    .dataframe tbody tr th:only-of-type {\n",
       "        vertical-align: middle;\n",
       "    }\n",
       "\n",
       "    .dataframe tbody tr th {\n",
       "        vertical-align: top;\n",
       "    }\n",
       "\n",
       "    .dataframe thead th {\n",
       "        text-align: right;\n",
       "    }\n",
       "</style>\n",
       "<table border=\"1\" class=\"dataframe\">\n",
       "  <thead>\n",
       "    <tr style=\"text-align: right;\">\n",
       "      <th></th>\n",
       "      <th>person_id</th>\n",
       "      <th>datebirth</th>\n",
       "      <th>datedeath</th>\n",
       "      <th>year_of_death</th>\n",
       "      <th>Age_at_death</th>\n",
       "      <th>gender</th>\n",
       "      <th>ethnicity</th>\n",
       "      <th>LSOA</th>\n",
       "      <th>IMD</th>\n",
       "      <th>GP_Practice</th>\n",
       "      <th>General_PCN</th>\n",
       "      <th>Specialist_PCN</th>\n",
       "    </tr>\n",
       "  </thead>\n",
       "  <tbody>\n",
       "    <tr>\n",
       "      <th>0</th>\n",
       "      <td>908799</td>\n",
       "      <td>1925-06-15</td>\n",
       "      <td>2003-09-15</td>\n",
       "      <td>2003</td>\n",
       "      <td>78</td>\n",
       "      <td>F</td>\n",
       "      <td>Unknown/Refuse to say</td>\n",
       "      <td>E01010655</td>\n",
       "      <td>1</td>\n",
       "      <td>B83064</td>\n",
       "      <td>1</td>\n",
       "      <td>0</td>\n",
       "    </tr>\n",
       "    <tr>\n",
       "      <th>1</th>\n",
       "      <td>805470</td>\n",
       "      <td>1927-03-15</td>\n",
       "      <td>1998-09-15</td>\n",
       "      <td>1998</td>\n",
       "      <td>71</td>\n",
       "      <td>F</td>\n",
       "      <td>Unknown/Refuse to say</td>\n",
       "      <td>E01010732</td>\n",
       "      <td>1</td>\n",
       "      <td>B83052</td>\n",
       "      <td>1</td>\n",
       "      <td>0</td>\n",
       "    </tr>\n",
       "    <tr>\n",
       "      <th>2</th>\n",
       "      <td>1226301</td>\n",
       "      <td>1944-05-15</td>\n",
       "      <td>2003-08-15</td>\n",
       "      <td>2003</td>\n",
       "      <td>59</td>\n",
       "      <td>F</td>\n",
       "      <td>Black or African or Caribbean or Black British...</td>\n",
       "      <td>None</td>\n",
       "      <td>&lt;NA&gt;</td>\n",
       "      <td>B83010</td>\n",
       "      <td>1</td>\n",
       "      <td>0</td>\n",
       "    </tr>\n",
       "    <tr>\n",
       "      <th>3</th>\n",
       "      <td>10417415</td>\n",
       "      <td>1924-10-15</td>\n",
       "      <td>2003-07-15</td>\n",
       "      <td>2003</td>\n",
       "      <td>79</td>\n",
       "      <td>M</td>\n",
       "      <td>Unknown/Refuse to say</td>\n",
       "      <td>E01027555</td>\n",
       "      <td>10</td>\n",
       "      <td>B83033</td>\n",
       "      <td>1</td>\n",
       "      <td>0</td>\n",
       "    </tr>\n",
       "    <tr>\n",
       "      <th>4</th>\n",
       "      <td>854745</td>\n",
       "      <td>1931-11-15</td>\n",
       "      <td>1999-10-15</td>\n",
       "      <td>1999</td>\n",
       "      <td>68</td>\n",
       "      <td>M</td>\n",
       "      <td>Unknown/Refuse to say</td>\n",
       "      <td>E01010741</td>\n",
       "      <td>3</td>\n",
       "      <td>B83055</td>\n",
       "      <td>1</td>\n",
       "      <td>0</td>\n",
       "    </tr>\n",
       "  </tbody>\n",
       "</table>\n",
       "</div>"
      ],
      "text/plain": [
       "   person_id   datebirth   datedeath  year_of_death  Age_at_death gender  \\\n",
       "0     908799  1925-06-15  2003-09-15           2003            78      F   \n",
       "1     805470  1927-03-15  1998-09-15           1998            71      F   \n",
       "2    1226301  1944-05-15  2003-08-15           2003            59      F   \n",
       "3   10417415  1924-10-15  2003-07-15           2003            79      M   \n",
       "4     854745  1931-11-15  1999-10-15           1999            68      M   \n",
       "\n",
       "                                           ethnicity       LSOA   IMD  \\\n",
       "0                              Unknown/Refuse to say  E01010655     1   \n",
       "1                              Unknown/Refuse to say  E01010732     1   \n",
       "2  Black or African or Caribbean or Black British...       None  <NA>   \n",
       "3                              Unknown/Refuse to say  E01027555    10   \n",
       "4                              Unknown/Refuse to say  E01010741     3   \n",
       "\n",
       "  GP_Practice  General_PCN  Specialist_PCN  \n",
       "0      B83064            1               0  \n",
       "1      B83052            1               0  \n",
       "2      B83010            1               0  \n",
       "3      B83033            1               0  \n",
       "4      B83055            1               0  "
      ]
     },
     "execution_count": 8,
     "metadata": {},
     "output_type": "execute_result"
    }
   ],
   "source": [
    "#first 5 rows of the data\n",
    "palliative_Care_table2.head()"
   ]
  },
  {
   "cell_type": "code",
   "execution_count": 9,
   "id": "a373b03b-a252-457a-8101-e85a60f8002e",
   "metadata": {},
   "outputs": [],
   "source": [
    "# drop duplicate rows of data\n",
    "palliative_care_table2 = palliative_Care_table2.drop_duplicates()"
   ]
  },
  {
   "cell_type": "code",
   "execution_count": 10,
   "id": "f517d610-168e-4a16-bf8e-182ba9d21105",
   "metadata": {},
   "outputs": [],
   "source": [
    "# Create table in Bigquery to store the Palliative care data\n",
    "final_table = 'yhcr-prd-phm-bia-core.CB_FDM_Palliative_care_v1.Palliative_Care_Master'\n",
    "# Load the table into BigQuery\n",
    "job2 = client.load_table_from_dataframe(palliative_care_table2, final_table)"
   ]
  },
  {
   "cell_type": "code",
   "execution_count": 12,
   "id": "227bc3c6-58c8-4509-8bdd-469ba2deed44",
   "metadata": {},
   "outputs": [
    {
     "name": "stdout",
     "output_type": "stream",
     "text": [
      "Deleted table 'yhcr-prd-phm-bia-core.CB_FDM_Palliative_care_v1.tmp_table1'.\n"
     ]
    }
   ],
   "source": [
    "# delete table1 as this isn't needed once the palliative care master table has been created\n",
    "\n",
    "table_id2 = 'yhcr-prd-phm-bia-core.CB_FDM_Palliative_care_v1.tmp_table1'\n",
    "client.delete_table(table_id2, not_found_ok=True)  \n",
    "print(\"Deleted table '{}'.\".format(table_id2))"
   ]
  },
  {
   "cell_type": "code",
   "execution_count": null,
   "id": "f5810b84-1436-408b-995f-e033cd336edd",
   "metadata": {},
   "outputs": [],
   "source": []
  }
 ],
 "metadata": {
  "environment": {
   "kernel": "python3",
   "name": "r-cpu.4-2.m110",
   "type": "gcloud",
   "uri": "gcr.io/deeplearning-platform-release/r-cpu.4-2:m110"
  },
  "kernelspec": {
   "display_name": "Python 3",
   "language": "python",
   "name": "python3"
  },
  "language_info": {
   "codemirror_mode": {
    "name": "ipython",
    "version": 3
   },
   "file_extension": ".py",
   "mimetype": "text/x-python",
   "name": "python",
   "nbconvert_exporter": "python",
   "pygments_lexer": "ipython3",
   "version": "3.7.12"
  }
 },
 "nbformat": 4,
 "nbformat_minor": 5
}
