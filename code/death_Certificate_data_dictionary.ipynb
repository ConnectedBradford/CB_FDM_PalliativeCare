{
 "cells": [
  {
   "cell_type": "markdown",
   "id": "1a2a8624-b417-4a03-a04e-8b0cde8b5cce",
   "metadata": {},
   "source": [
    "Creates the Data Dictionary for the death certificate data"
   ]
  },
  {
   "cell_type": "code",
   "execution_count": null,
   "id": "57041fef-e0fc-4de7-af33-a8113b3a0d2b",
   "metadata": {},
   "outputs": [],
   "source": [
    "# Import libraries.\n",
    "from google.cloud import bigquery\n",
    "from google.cloud.bigquery import LoadJobConfig\n",
    "from google.cloud.bigquery import SchemaField\n",
    "import pandas as pd"
   ]
  },
  {
   "cell_type": "code",
   "execution_count": null,
   "id": "8816f5d7-74b8-46c0-b396-407471d8b41e",
   "metadata": {},
   "outputs": [],
   "source": [
    "client = bigquery.Client()"
   ]
  },
  {
   "cell_type": "code",
   "execution_count": null,
   "id": "a1a475bf-db20-430c-a2c4-6256ab4ddfcc",
   "metadata": {},
   "outputs": [],
   "source": [
    "# check this is the latest data for death certifiate data\n",
    "\n",
    "latest_data = \"yhcr-prd-phm-bia-core.CB_MYSPACE_MH.tbl_NEC_Deaths_QWO_20230817_RELEASE\""
   ]
  },
  {
   "cell_type": "code",
   "execution_count": null,
   "id": "5d84908a-a7ef-4842-96eb-049dc7b25c5d",
   "metadata": {},
   "outputs": [],
   "source": [
    "death_cert_data = f\"\"\"select *\n",
    "from {latest_data} \"\"\""
   ]
  },
  {
   "cell_type": "code",
   "execution_count": null,
   "id": "88ccd3cf-119e-4a11-ba7c-042037b38587",
   "metadata": {},
   "outputs": [],
   "source": [
    "death_cert_data = pd.read_gbq(death_cert_data)"
   ]
  },
  {
   "cell_type": "code",
   "execution_count": null,
   "id": "8d8d9136-4136-4671-83f5-e04b3703942e",
   "metadata": {},
   "outputs": [],
   "source": [
    "death_cert_data.head()"
   ]
  },
  {
   "cell_type": "code",
   "execution_count": null,
   "id": "ac00962d-a555-41c0-9c5a-216453f88977",
   "metadata": {},
   "outputs": [],
   "source": [
    "class create_data_dictionary:\n",
    "\n",
    "    def __init__(self):\n",
    "        '''This class provides functions to quickly develop a data dictionary for your data set'''\n",
    "        return None\n",
    "\n",
    "    def make_my_data_dictionary(self, dataFrame):\n",
    "        '''Create an initial data dictionary excluding definitions for meaning of features'''\n",
    "\n",
    "        col_ = dataFrame.columns\n",
    "        df_DataDict = {}\n",
    "\n",
    "        for col in col_:\n",
    "                df_DataDict[col] = {\n",
    "                               'Type': str(death_cert_data.dtypes[col]),\n",
    "                               'Unique values':  (death_cert_data[col].nunique()),\n",
    "                               'Null_Count': sum(death_cert_data[col].isna()),\n",
    "                               'Definition': str(''),\n",
    "                               'Description': ('minimum value: ' + str(death_cert_data[col].dropna().astype(str).min()), 'Maximum Value: ' + str(death_cert_data[col].dropna().astype(str).max())),\n",
    "                               'Examples' :  (death_cert_data[col].dropna().to_frame().set_index(col, inplace=False).sample(5)).index.astype(str).tolist(),\n",
    "                                }\n",
    "\n",
    "        df_DD = pd.DataFrame(df_DataDict)\n",
    "\n",
    "        return df_DD\n",
    "\n",
    "    def define_data_meaning(self, df_data_dictionary):\n",
    "        '''Quickly provide input regarding each columns meaning and transpose into a usable dictionary'''\n",
    "\n",
    "        col_ = df_data_dictionary.columns\n",
    "        d = 'Definition'\n",
    "\n",
    "        for col in col_:\n",
    "            df_data_dictionary[col][d] = input('Provide a data definition for {}'.format(col))\n",
    "\n",
    "        df_data_dictionary = df_data_dictionary.transpose()\n",
    "\n",
    "        return df_data_dictionary\n",
    "    "
   ]
  },
  {
   "cell_type": "code",
   "execution_count": null,
   "id": "92694a87-e032-4add-914e-e00ebca60a4e",
   "metadata": {},
   "outputs": [],
   "source": [
    "dd = create_data_dictionary()"
   ]
  },
  {
   "cell_type": "code",
   "execution_count": null,
   "id": "65bc5e18-0dc8-4ca9-8f0f-8448035ec460",
   "metadata": {},
   "outputs": [],
   "source": [
    "df_dd = dd.make_my_data_dictionary(death_cert_data)"
   ]
  },
  {
   "cell_type": "code",
   "execution_count": null,
   "id": "48e37fea-afc7-49b5-bbee-77df287c4b39",
   "metadata": {},
   "outputs": [],
   "source": [
    "df_dd = dd.define_data_meaning(df_dd)"
   ]
  },
  {
   "cell_type": "code",
   "execution_count": null,
   "id": "7518f411-521d-4bf5-99f2-24900ef50778",
   "metadata": {},
   "outputs": [],
   "source": [
    "df_dd"
   ]
  },
  {
   "cell_type": "code",
   "execution_count": null,
   "id": "c03ba3fc-4579-4027-a806-4ecd23f0d53a",
   "metadata": {},
   "outputs": [],
   "source": [
    "df_dd.to_csv('Death_certificate_data_dictionary.csv')"
   ]
  },
  {
   "cell_type": "code",
   "execution_count": null,
   "id": "bc2b7db4-0cd9-4268-87e5-370637b95851",
   "metadata": {},
   "outputs": [],
   "source": []
  }
 ],
 "metadata": {
  "environment": {
   "kernel": "python3",
   "name": "r-cpu.4-2.m110",
   "type": "gcloud",
   "uri": "gcr.io/deeplearning-platform-release/r-cpu.4-2:m110"
  },
  "kernelspec": {
   "display_name": "Python 3",
   "language": "python",
   "name": "python3"
  },
  "language_info": {
   "codemirror_mode": {
    "name": "ipython",
    "version": 3
   },
   "file_extension": ".py",
   "mimetype": "text/x-python",
   "name": "python",
   "nbconvert_exporter": "python",
   "pygments_lexer": "ipython3",
   "version": "3.7.12"
  }
 },
 "nbformat": 4,
 "nbformat_minor": 5
}
